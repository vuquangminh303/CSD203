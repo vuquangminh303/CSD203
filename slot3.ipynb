{
 "cells": [
  {
   "cell_type": "code",
   "execution_count": 4,
   "id": "b60403b2",
   "metadata": {},
   "outputs": [],
   "source": [
    "def compute(arr):\n",
    "    n=len(arr)\n",
    "    A=[0]*n\n",
    "    for j in range(n):\n",
    "        total=0\n",
    "        for i in range(j+1):\n",
    "            total+=arr[i]\n",
    "        A[j]=total/(j+1)\n",
    "    return A"
   ]
  },
  {
   "cell_type": "code",
   "execution_count": 32,
   "id": "7512b9d7",
   "metadata": {},
   "outputs": [],
   "source": [
    "def compute2(arr):\n",
    "    n=len(arr)\n",
    "    A=[0]*(n)\n",
    "    total=0\n",
    "    curr=0\n",
    "    for j in range(n):\n",
    "        total+=arr[j]\n",
    "    for j in range(n-1,-1,-1):\n",
    "        A[j]=(total-curr)/(j+1)\n",
    "        curr+=arr[j]\n",
    "    return A"
   ]
  },
  {
   "cell_type": "code",
   "execution_count": 40,
   "id": "4a7865d9",
   "metadata": {},
   "outputs": [],
   "source": [
    "def compute3(arr):\n",
    "    n=len(arr)\n",
    "    A=[0]*n\n",
    "    total=0\n",
    "    for i in range(n):\n",
    "        total+=arr[i]\n",
    "        A[i]=total/(i+1)\n",
    "    return A"
   ]
  },
  {
   "cell_type": "code",
   "execution_count": 41,
   "id": "1dfaffcc",
   "metadata": {},
   "outputs": [
    {
     "name": "stdout",
     "output_type": "stream",
     "text": [
      "1 2 3 6\n"
     ]
    },
    {
     "data": {
      "text/plain": [
       "[1.0, 1.5, 2.0, 3.0]"
      ]
     },
     "execution_count": 41,
     "metadata": {},
     "output_type": "execute_result"
    }
   ],
   "source": [
    "arr=list(map(int,input().split()))\n",
    "compute3(arr)"
   ]
  },
  {
   "cell_type": "raw",
   "id": "29c1f582",
   "metadata": {},
   "source": []
  }
 ],
 "metadata": {
  "kernelspec": {
   "display_name": "Python 3 (ipykernel)",
   "language": "python",
   "name": "python3"
  },
  "language_info": {
   "codemirror_mode": {
    "name": "ipython",
    "version": 3
   },
   "file_extension": ".py",
   "mimetype": "text/x-python",
   "name": "python",
   "nbconvert_exporter": "python",
   "pygments_lexer": "ipython3",
   "version": "3.11.5"
  }
 },
 "nbformat": 4,
 "nbformat_minor": 5
}
