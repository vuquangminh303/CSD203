{
 "cells": [
  {
   "cell_type": "code",
   "execution_count": 1,
   "id": "878fcdc2",
   "metadata": {},
   "outputs": [],
   "source": [
    "def binary(arr,target):\n",
    "    low=0\n",
    "    high=len(arr)-1\n",
    "    while low <high:\n",
    "        mid=(low+high)//2\n",
    "        if arr[mid]==target:\n",
    "            return mid\n",
    "        elif arr[mid]>target:\n",
    "            high=mid-1\n",
    "        else:\n",
    "            low=mid+1\n",
    "    return mid"
   ]
  },
  {
   "cell_type": "code",
   "execution_count": 3,
   "id": "0e817ad3",
   "metadata": {},
   "outputs": [
    {
     "name": "stdout",
     "output_type": "stream",
     "text": [
      "1 4 5 6 8\n",
      "5\n"
     ]
    },
    {
     "data": {
      "text/plain": [
       "2"
      ]
     },
     "execution_count": 3,
     "metadata": {},
     "output_type": "execute_result"
    }
   ],
   "source": [
    "arr=list(map(int,input().split()))\n",
    "target=int(input())\n",
    "binary(arr,target)"
   ]
  },
  {
   "cell_type": "code",
   "execution_count": 4,
   "id": "ac656ac7",
   "metadata": {},
   "outputs": [],
   "source": [
    "def recurr(arr,target,low,high):\n",
    "    if low>high:\n",
    "        return False\n",
    "    else:\n",
    "        mid=(low+high)//2\n",
    "        if arr[mid]==target:\n",
    "            return mid\n",
    "        elif arr[mid]>target:\n",
    "            return recurr(arr,target,low,mid-1)\n",
    "        else:\n",
    "            return recurr(arr,target,mid+1,high)"
   ]
  },
  {
   "cell_type": "code",
   "execution_count": 6,
   "id": "c236cf80",
   "metadata": {},
   "outputs": [
    {
     "name": "stdout",
     "output_type": "stream",
     "text": [
      "1 4 5 6\n",
      "5\n"
     ]
    },
    {
     "data": {
      "text/plain": [
       "2"
      ]
     },
     "execution_count": 6,
     "metadata": {},
     "output_type": "execute_result"
    }
   ],
   "source": [
    "arr=list(map(int,input().split()))\n",
    "target=int(input())\n",
    "low=0\n",
    "high=len(arr)-1\n",
    "recurr(arr,target,low,high)"
   ]
  },
  {
   "cell_type": "code",
   "execution_count": null,
   "id": "0ff240fb",
   "metadata": {},
   "outputs": [],
   "source": []
  }
 ],
 "metadata": {
  "kernelspec": {
   "display_name": "Python 3 (ipykernel)",
   "language": "python",
   "name": "python3"
  },
  "language_info": {
   "codemirror_mode": {
    "name": "ipython",
    "version": 3
   },
   "file_extension": ".py",
   "mimetype": "text/x-python",
   "name": "python",
   "nbconvert_exporter": "python",
   "pygments_lexer": "ipython3",
   "version": "3.11.5"
  }
 },
 "nbformat": 4,
 "nbformat_minor": 5
}
