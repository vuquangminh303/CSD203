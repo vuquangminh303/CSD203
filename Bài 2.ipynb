{
 "cells": [
  {
   "cell_type": "code",
   "execution_count": 6,
   "id": "377da635",
   "metadata": {},
   "outputs": [],
   "source": [
    "def quydoi(points):\n",
    "    dct={'A':4,'B':3,'C':2,'D':1,'F':0}\n",
    "    decimal=[8.5,7,5.5,4]\n",
    "    res=[]\n",
    "    for point in points:\n",
    "        if point >=8.5:\n",
    "            res.append('A')\n",
    "        elif point>=7:\n",
    "            res.append('B')\n",
    "        elif point >=5.5:\n",
    "            res.append('C')\n",
    "        elif point >=4:\n",
    "            res.append('D')\n",
    "        else:\n",
    "            res.append('F')\n",
    "    new_res=[dct[x] for x in res]\n",
    "    for i in range(len(points)):\n",
    "        print(f'Decimal {points[i]} in 4th system is {res[i]}: {new_res[i]}')"
   ]
  },
  {
   "cell_type": "code",
   "execution_count": 8,
   "id": "47012501",
   "metadata": {},
   "outputs": [
    {
     "name": "stdout",
     "output_type": "stream",
     "text": [
      "9 8 6\n",
      "Decimal 9 in 4th system is A: 4\n",
      "Decimal 8 in 4th system is B: 3\n",
      "Decimal 6 in 4th system is C: 2\n"
     ]
    }
   ],
   "source": [
    "points=list(map(int,input().split()))\n",
    "quydoi(points)"
   ]
  },
  {
   "cell_type": "code",
   "execution_count": null,
   "id": "b95ee124",
   "metadata": {},
   "outputs": [],
   "source": []
  }
 ],
 "metadata": {
  "kernelspec": {
   "display_name": "Python 3 (ipykernel)",
   "language": "python",
   "name": "python3"
  },
  "language_info": {
   "codemirror_mode": {
    "name": "ipython",
    "version": 3
   },
   "file_extension": ".py",
   "mimetype": "text/x-python",
   "name": "python",
   "nbconvert_exporter": "python",
   "pygments_lexer": "ipython3",
   "version": "3.11.5"
  }
 },
 "nbformat": 4,
 "nbformat_minor": 5
}
